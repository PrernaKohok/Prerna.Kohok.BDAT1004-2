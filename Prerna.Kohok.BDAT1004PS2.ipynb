{
 "cells": [
  {
   "cell_type": "code",
   "execution_count": 1,
   "id": "5c8690f8",
   "metadata": {},
   "outputs": [
    {
     "name": "stdout",
     "output_type": "stream",
     "text": [
      "6\n"
     ]
    }
   ],
   "source": [
    "a = 0\n",
    "def b():\n",
    " global a\n",
    " a = c(a)\n",
    "def c(a):\n",
    " return a + 2\n",
    "b()\n",
    "b()\n",
    "b()\n",
    "print(a)"
   ]
  },
  {
   "cell_type": "code",
   "execution_count": 11,
   "id": "73af69dc",
   "metadata": {},
   "outputs": [
    {
     "name": "stdout",
     "output_type": "stream",
     "text": [
      "Sorry! File midterm.txt not found!!\n",
      "Sorry! File idterm.py not found!!\n"
     ]
    }
   ],
   "source": [
    "def filelength(filename):\n",
    "    try:\n",
    "        infile = open(filename,'r')\n",
    "        file = infile.read()\n",
    "        length = len(file)\n",
    "        if (length>0):\n",
    "            print(f\"Length of the file : {length}\")\n",
    "        else:\n",
    "            print(\"There is no content in the file\")\n",
    "    except:\n",
    "        print(\"Sorry! File \"+ filename + \" not found!!\")\n",
    "        \n",
    "filelength('midterm.txt')\n",
    "filelength('idterm.py')\n",
    "    "
   ]
  },
  {
   "cell_type": "code",
   "execution_count": 3,
   "id": "b7ae8e47",
   "metadata": {},
   "outputs": [
    {
     "name": "stdout",
     "output_type": "stream",
     "text": [
      "['doll', 'firetruck', 'kitten']\n",
      "I am a Kangaroo located at coordinates (3,0)\n"
     ]
    }
   ],
   "source": [
    "class Marsupial:\n",
    "    contents = []\n",
    "    def put_in_pouch(self,toy):\n",
    "        self.contents.append(toy)\n",
    "    def pouch_contents(self):\n",
    "        print(self.contents)\n",
    "\n",
    "class Kangaroo(Marsupial):\n",
    "    def __init__(self, xcoord=0, ycoord=0):\n",
    "        self.x = xcoord\n",
    "        self.y = ycoord\n",
    "\n",
    "    def jump(self, dx, dy):\n",
    "        self.x += dx\n",
    "        self.y += dy\n",
    "    def __str__(self):\n",
    "        return f\"I am a Kangaroo located at coordinates ({self.x},{self.y})\"\n",
    "k = Kangaroo(0,0)\n",
    "k.put_in_pouch('doll')\n",
    "k.put_in_pouch('firetruck')\n",
    "k.put_in_pouch('kitten')\n",
    "k.pouch_contents()\n",
    "k.jump(1,0)\n",
    "k.jump(1,0)\n",
    "k.jump(1,0)\n",
    "print(k)"
   ]
  },
  {
   "cell_type": "code",
   "execution_count": 4,
   "id": "5043cfbd",
   "metadata": {},
   "outputs": [
    {
     "name": "stdout",
     "output_type": "stream",
     "text": [
      "10\n",
      "5\n",
      "16\n",
      "8\n",
      "4\n",
      "2\n",
      "1\n"
     ]
    }
   ],
   "source": [
    "def collatz(x):\n",
    "    print(int(x))\n",
    "    if x==1:\n",
    "        exit\n",
    "    elif x>1 and x%2==0:\n",
    "        x=x/2\n",
    "        collatz(x)\n",
    "    else:\n",
    "        x= (3*x)+1\n",
    "        collatz(x)\n",
    "collatz(10)"
   ]
  },
  {
   "cell_type": "code",
   "execution_count": 5,
   "id": "fa5ef3a5",
   "metadata": {},
   "outputs": [
    {
     "data": {
      "text/plain": [
       "'01001'"
      ]
     },
     "execution_count": 5,
     "metadata": {},
     "output_type": "execute_result"
    }
   ],
   "source": [
    "def binary(n):\n",
    "    if n < 0:\n",
    "        return 'Must be a positive integer'\n",
    "    elif n == 0:\n",
    "        return '0'\n",
    "    else:\n",
    "        return binary(n//2) + str(n%2)\n",
    "\n",
    "binary(9)"
   ]
  },
  {
   "cell_type": "code",
   "execution_count": 6,
   "id": "e421ba32",
   "metadata": {},
   "outputs": [
    {
     "ename": "FileNotFoundError",
     "evalue": "[Errno 2] No such file or directory: 'w3c.html'",
     "output_type": "error",
     "traceback": [
      "\u001b[1;31m---------------------------------------------------------------------------\u001b[0m",
      "\u001b[1;31mFileNotFoundError\u001b[0m                         Traceback (most recent call last)",
      "Cell \u001b[1;32mIn[6], line 15\u001b[0m\n\u001b[0;32m     12\u001b[0m         \u001b[38;5;28;01mif\u001b[39;00m \u001b[38;5;28mself\u001b[39m\u001b[38;5;241m.\u001b[39mtags \u001b[38;5;241m==\u001b[39m (\u001b[38;5;124m'\u001b[39m\u001b[38;5;124mh1\u001b[39m\u001b[38;5;124m'\u001b[39m \u001b[38;5;129;01mor\u001b[39;00m \u001b[38;5;124m'\u001b[39m\u001b[38;5;124mh2\u001b[39m\u001b[38;5;124m'\u001b[39m \u001b[38;5;129;01mor\u001b[39;00m \u001b[38;5;124m'\u001b[39m\u001b[38;5;124mh3\u001b[39m\u001b[38;5;124m'\u001b[39m \u001b[38;5;129;01mor\u001b[39;00m \u001b[38;5;124m'\u001b[39m\u001b[38;5;124mh4\u001b[39m\u001b[38;5;124m'\u001b[39m \u001b[38;5;129;01mor\u001b[39;00m \u001b[38;5;124m'\u001b[39m\u001b[38;5;124mh5\u001b[39m\u001b[38;5;124m'\u001b[39m):\n\u001b[0;32m     13\u001b[0m             \u001b[38;5;28mprint\u001b[39m(data) \n\u001b[1;32m---> 15\u001b[0m infile \u001b[38;5;241m=\u001b[39m \u001b[38;5;28;43mopen\u001b[39;49m\u001b[43m(\u001b[49m\u001b[38;5;124;43m'\u001b[39;49m\u001b[38;5;124;43mw3c.html\u001b[39;49m\u001b[38;5;124;43m'\u001b[39;49m\u001b[43m)\u001b[49m \n\u001b[0;32m     16\u001b[0m content \u001b[38;5;241m=\u001b[39m infile\u001b[38;5;241m.\u001b[39mread() \n\u001b[0;32m     17\u001b[0m infile\u001b[38;5;241m.\u001b[39mclose() \n",
      "File \u001b[1;32m~\\Anaconda\\lib\\site-packages\\IPython\\core\\interactiveshell.py:282\u001b[0m, in \u001b[0;36m_modified_open\u001b[1;34m(file, *args, **kwargs)\u001b[0m\n\u001b[0;32m    275\u001b[0m \u001b[38;5;28;01mif\u001b[39;00m file \u001b[38;5;129;01min\u001b[39;00m {\u001b[38;5;241m0\u001b[39m, \u001b[38;5;241m1\u001b[39m, \u001b[38;5;241m2\u001b[39m}:\n\u001b[0;32m    276\u001b[0m     \u001b[38;5;28;01mraise\u001b[39;00m \u001b[38;5;167;01mValueError\u001b[39;00m(\n\u001b[0;32m    277\u001b[0m         \u001b[38;5;124mf\u001b[39m\u001b[38;5;124m\"\u001b[39m\u001b[38;5;124mIPython won\u001b[39m\u001b[38;5;124m'\u001b[39m\u001b[38;5;124mt let you open fd=\u001b[39m\u001b[38;5;132;01m{\u001b[39;00mfile\u001b[38;5;132;01m}\u001b[39;00m\u001b[38;5;124m by default \u001b[39m\u001b[38;5;124m\"\u001b[39m\n\u001b[0;32m    278\u001b[0m         \u001b[38;5;124m\"\u001b[39m\u001b[38;5;124mas it is likely to crash IPython. If you know what you are doing, \u001b[39m\u001b[38;5;124m\"\u001b[39m\n\u001b[0;32m    279\u001b[0m         \u001b[38;5;124m\"\u001b[39m\u001b[38;5;124myou can use builtins\u001b[39m\u001b[38;5;124m'\u001b[39m\u001b[38;5;124m open.\u001b[39m\u001b[38;5;124m\"\u001b[39m\n\u001b[0;32m    280\u001b[0m     )\n\u001b[1;32m--> 282\u001b[0m \u001b[38;5;28;01mreturn\u001b[39;00m io_open(file, \u001b[38;5;241m*\u001b[39margs, \u001b[38;5;241m*\u001b[39m\u001b[38;5;241m*\u001b[39mkwargs)\n",
      "\u001b[1;31mFileNotFoundError\u001b[0m: [Errno 2] No such file or directory: 'w3c.html'"
     ]
    }
   ],
   "source": [
    "from html.parser import HTMLParser\n",
    "class HeadingParser(HTMLParser):\n",
    "    def __init__(self):\n",
    "        HTMLParser.__init__(self)\n",
    "        self.tags = []\n",
    "    \n",
    "    def handle_starttag(self, tag, attrs):\n",
    "        if tag == ('h1' or 'h2' or 'h3'or 'h4' or 'h5'):\n",
    "            self.tags = tag\n",
    "\n",
    "    def handle_data(self,data):\n",
    "        if self.tags == ('h1' or 'h2' or 'h3' or 'h4' or 'h5'):\n",
    "            print(data) \n",
    "            \n",
    "infile = open('w3c.html') \n",
    "content = infile.read() \n",
    "infile.close() \n",
    "hp = HeadingParser() \n",
    "hp.feed(content)"
   ]
  },
  {
   "cell_type": "code",
   "execution_count": 7,
   "id": "43a306e9",
   "metadata": {},
   "outputs": [
    {
     "name": "stdout",
     "output_type": "stream",
     "text": [
      "[<a href=\"http://reed.cs.depaul.edu/lperkovic/test2.html\"> Link\n",
      "to test2.html </a>, <a href=\"test3.html\"> Link to test3.html</a>]\n"
     ]
    }
   ],
   "source": [
    "from urllib.request import urlopen\n",
    "from urllib.parse import urljoin\n",
    "\n",
    "from html.parser import HTMLParser\n",
    "\n",
    "from bs4 import BeautifulSoup\n",
    "\n",
    "def webdir(url,depth,indent):\n",
    "    \n",
    "    htmlfile = urlopen(url).read()\n",
    "    soup = BeautifulSoup(htmlfile)\n",
    "    a_tag = soup.find_all('a') # This finds the first occurrence of an a tag.\n",
    "    print(a_tag)\n",
    "   \n",
    "       \n",
    "        \n",
    "\n",
    "    \n",
    "webdir('https://reed.cs.depaul.edu/lperkovic/test1.html',2,0)"
   ]
  },
  {
   "cell_type": "code",
   "execution_count": 8,
   "id": "976a8cb9",
   "metadata": {},
   "outputs": [
    {
     "ename": "SyntaxError",
     "evalue": "invalid syntax (3689244712.py, line 1)",
     "output_type": "error",
     "traceback": [
      "\u001b[1;36m  Cell \u001b[1;32mIn[8], line 1\u001b[1;36m\u001b[0m\n\u001b[1;33m    SELECT Temperatur(C) from table\u001b[0m\n\u001b[1;37m           ^\u001b[0m\n\u001b[1;31mSyntaxError\u001b[0m\u001b[1;31m:\u001b[0m invalid syntax\n"
     ]
    }
   ],
   "source": [
    "SELECT Temperatur(C) from table\n",
    "SELECT DISTINCT City from table\n",
    "SELECT * from table WHERE Country = 'India'\n",
    "SELECT * from table WHERE Season = 'Fall'\n",
    "SELECT City, Country , Season from table WHERE Rainfall(mm) BETWEEN 200 and 400\n",
    "SELECT City, Country from table WHERE Season = 'Fall' AND Teamperature(C) > 20 ORDER BY Temperatur(C)\n",
    "SELECT SUM(Rainfall) from table WHERE City = 'Cairo'\n",
    "SELECT DISTING Season, SUM(Rainfall) from table\n"
   ]
  },
  {
   "cell_type": "code",
   "execution_count": 9,
   "id": "7b70dd37",
   "metadata": {},
   "outputs": [
    {
     "name": "stdout",
     "output_type": "stream",
     "text": [
      "['THE', 'QUICK', 'BROWN', 'FOX', 'JUMPS', 'OVER', 'THE', 'LAZY', 'DOG']\n",
      "['the', 'quick', 'brown', 'fox', 'jumps', 'over', 'the', 'lazy', 'dog']\n",
      "[3, 5, 5, 3, 5, 4, 3, 4, 3]\n",
      "[['THE', 'the', 3], ['QUICK', 'quick', 5], ['BROWN', 'brown', 5], ['FOX', 'fox', 3], ['JUMPS', 'jumps', 5], ['OVER', 'over', 4], ['THE', 'the', 3], ['LAZY', 'lazy', 4], ['DOG', 'dog', 3]]\n",
      "['quick', 'brown', 'jumps', 'over', 'lazy']\n"
     ]
    }
   ],
   "source": [
    "words = ['The', 'quick', 'brown', 'fox', 'jumps', 'over', 'the', 'lazy', 'dog']\n",
    "allcaps = [word.upper() for word in words]\n",
    "print(allcaps)\n",
    "alllower = [word.lower() for word in words]\n",
    "print(alllower)\n",
    "lengths = [len(word) for word in words]\n",
    "print(lengths)\n",
    "list_of_three = [[word.upper(), word.lower(), len(word)] for word in words]\n",
    "print(list_of_three)\n",
    "words_of_length4_ormore = [word for word in words if len(word) >=4]\n",
    "print(words_of_length4_ormore)"
   ]
  },
  {
   "cell_type": "code",
   "execution_count": null,
   "id": "a058b105",
   "metadata": {},
   "outputs": [],
   "source": []
  }
 ],
 "metadata": {
  "kernelspec": {
   "display_name": "Python 3 (ipykernel)",
   "language": "python",
   "name": "python3"
  },
  "language_info": {
   "codemirror_mode": {
    "name": "ipython",
    "version": 3
   },
   "file_extension": ".py",
   "mimetype": "text/x-python",
   "name": "python",
   "nbconvert_exporter": "python",
   "pygments_lexer": "ipython3",
   "version": "3.10.9"
  }
 },
 "nbformat": 4,
 "nbformat_minor": 5
}
